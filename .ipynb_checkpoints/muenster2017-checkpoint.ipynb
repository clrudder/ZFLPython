{
 "cells": [
  {
   "cell_type": "markdown",
   "metadata": {
    "nbpresent": {
     "id": "61e34aac-853f-4bb7-aa58-56ac8cd5591f"
    }
   },
   "source": [
    "<center>\n",
    "<h1> Statistical Algorithms for Change Detection in Optical and SAR Imagery: </h1>\n",
    "\n",
    "<h1> Implementations in Python and on the Google Earth Engine </h1>\n",
    "\n",
    "<h2> Mort Canty, Jülich Germany </h2>\n",
    "<h2> Allan A. Nielsen, DTU Denmark   </h2> \n",
    "<h2> </h2>\n",
    "\n",
    "<h2> <em>GI Forum, Institute for Geoinformatics  (ifgi),  </em></h2>\n",
    "<h2> <em>University of Münster, June 13, 2017 </em></h2>\n",
    "</center>\n"
   ]
  },
  {
   "cell_type": "markdown",
   "metadata": {
    "nbpresent": {
     "id": "838d8cee-04a8-4730-aa85-4845728fbe77"
    }
   },
   "source": [
    "# Topics:\n",
    "\n",
    "## Optical/Infrared Imagery\n",
    "\n",
    "### = The IR-MAD Algorithm: iterated canonical correlation analysis\n",
    "\n",
    "### = Automatic relative radiometric normalization\n",
    "\n",
    "## Polarimetric SAR Imagery\n",
    "\n",
    "### = The bitemporal complex Wishart algorithm\n",
    "\n",
    "### = The sequential omnibus algorithm\n",
    "\n",
    "## Python Implementation\n",
    "\n",
    "### = Jupyter/IPython notebooks in Docker containers\n",
    "\n",
    "### = The Python API on the Google Earth Engine\n",
    "\n",
    "## Outlook\n"
   ]
  },
  {
   "cell_type": "markdown",
   "metadata": {
    "nbpresent": {
     "id": "3a42c88d-ab64-4ac1-92d4-da4a4b3620c4"
    }
   },
   "source": [
    "## Polarimetric SAR Images\n",
    "\n",
    "<a href = \"http://www2.imm.dtu.dk/pubdb/views/publication_details.php?id=6825\"> \n",
    "\tK. Conradsen et al. (2016). Determining the points of\n",
    "\tchange in time series of polarimetric SAR data. IEEE TGRS 54 (5) 3007-3024.</a>\n",
    "\n",
    "### Scattering matrix\n",
    "\n",
    "$$\n",
    "\\pmatrix{E_h^b \\cr E_v^b}\n",
    "=\\pmatrix{S_{hh} & S_{hv}\\cr S_{vh} & S_{vv}}\\pmatrix{E_h^i \\cr E_v^i}.\n",
    "$$\n",
    "\n",
    "### Vector representation\n",
    "\n",
    "$$\n",
    "s = \\pmatrix{S_{hh}\\cr \\sqrt{2}S_{hv}\\cr S_{vv}},\n",
    "$$\n",
    "\n",
    "### Span image (inner product)\n",
    "\n",
    "$$\n",
    "{\\rm span} = s^\\top s = |S_{hh}|^2 + 2|S_{hv}|^2 + |S_{vv}|^2.\n",
    "$$\n",
    "\n",
    "### Covariance representation (outer product)\n",
    "\n",
    "$$\n",
    "C = s s^\\top = \\pmatrix{ |S_{hh}|^2 & \\sqrt{2}S_{hh}S_{hv}^* & S_{hh}S_{vv}^* \\cr\n",
    "                                     \\sqrt{2}S_{hv}S_{hh}^* & 2|S_{hv}|^2 & \\sqrt{2}S_{hv}S_{vv}^* \\cr\n",
    "                                     S_{vv}S_{hh}^* & \\sqrt{2}S_{vv}S_{hv}^* & |S_{vv}|^2 }.\n",
    "$$\n"
   ]
  },
  {
   "cell_type": "markdown",
   "metadata": {
    "nbpresent": {
     "id": "724ab1b2-c488-4413-94d4-274773d0cb59"
    }
   },
   "source": [
    "### Multi-look image\n",
    "#### quad pol\n",
    "$$\n",
    "\\bar{C}  ={1\\over n}\\sum_{\\nu=1}^n  s(\\nu) s(\\nu)^\\top = \\langle  s s^\\top \\rangle\n",
    " = \\pmatrix{ \\langle |S_{hh}|^2\\rangle & \\langle\\sqrt{2}S_{hh}S_{hv}^*\\rangle & \\langle S_{hh}S_{vv}^*\\rangle \\cr\n",
    "\\langle\\sqrt{2} S_{hv}S_{hh}^*\\rangle & \\langle 2|S_{hv}|^2\\rangle & \\langle\\sqrt{2}S_{hv}S_{vv}^*\\rangle \\cr\n",
    "\\langle S_{vv}S_{hh}^*\\rangle & \\langle\\sqrt{2}S_{vv}S_{hv}^*\\rangle & \\langle |S_{vv}|^2\\rangle }\n",
    "$$\n",
    "#### dual pol\n",
    "$$\n",
    "\\bar{C} = \\pmatrix{ \\langle |S_{hh}|^2\\rangle & \\langle S_{hh}S_{hv}^*\\rangle \\cr\n",
    "\\langle S_{hv}S_{hh}^*\\rangle & \\langle |S_{hv}|^2\\rangle }\n",
    "$$\n",
    "#### single pol\n",
    "$$\n",
    "\\bar{C} = \\langle |S_{hh}|^2\\rangle \\quad \n",
    "$$\n",
    "\n"
   ]
  },
  {
   "cell_type": "markdown",
   "metadata": {
    "collapsed": true,
    "nbpresent": {
     "id": "2ffd18a6-9b9c-43be-8b5c-2010243b23de"
    }
   },
   "source": [
    "#### The matrix\n",
    "$$\n",
    "X = n\\bar{C}\n",
    "$$\n",
    "#### has the complex Wishart distribution\n",
    "$$\n",
    "p_{W_c}(X) ={|X|^{(n-p)}\\exp(-{\\rm tr}(\\Sigma^{-1} X)) \\over\n",
    "\\pi^{p(p-1)/2}|\\Sigma|^{n}\\prod_{i=1}^p\\Gamma(n+1-i)},\\quad n \\ge p,\n",
    "$$"
   ]
  },
  {
   "cell_type": "markdown",
   "metadata": {
    "collapsed": true,
    "nbpresent": {
     "id": "d7514d8e-51b1-447b-84cc-32fcbb0f51a3"
    }
   },
   "source": [
    "#### To test the  null hypothesis $H_0$\n",
    "$$\n",
    "H_0: \\ \\Sigma_1 = \\Sigma_2 = \\cdots = \\Sigma_k\n",
    "$$\n",
    "#### against all alternatives (omnibus test), we use a likelihood ratio  test statistic\n",
    "$$\n",
    "Q = \\left\\{ k^{pk} \\frac{\\prod_{i=1}^k |X_i|}{|X_1+X_2+\\dots +X_k|^{k}} \\right\\}^n\n",
    "$$\n",
    "#### In the limit of a large number of looks, $-2\\log Q$ has a chi-square distribution with $(k-1)p²$ degrees of freedom under the null hypothesis.\n",
    "\n",
    "#### The no-change probability (P-value) is then \n",
    "$$\n",
    "P = {\\rm Prob}(Q < q_{obs}) = {\\rm Prob}(-2\\log Q > -2\\log q_{obs})\n",
    "$$\n",
    "#### or, in Python with $z = -2\\log q_{obs}$,\n",
    "$$\n",
    "{\\tt P =  1- np.chi2.cdf(z,[(k-1)*p**2])}\n",
    "$$\n",
    "\n",
    "#### We would typically reject the null hypothesis when $P < 0.01$\n"
   ]
  },
  {
   "cell_type": "markdown",
   "metadata": {
    "collapsed": true,
    "nbpresent": {
     "id": "7a80b26b-3612-44b9-9acc-b8918ab9f00b"
    }
   },
   "source": [
    "#### Given that\n",
    "$$\n",
    "\\Sigma_1=\\Sigma_2=\\cdots=\\Sigma_{j-1}\n",
    "$$\n",
    "#### then the likelihood ratio test statistic $R_j$ for testing the hypothesis\n",
    "$$\n",
    "H_{0,j}: \\Sigma_j=\\Sigma_1 \\ \\ {\\rm\\bf against} \\ \\ H_{1,j}: \\Sigma_j \\neq \\Sigma_1\n",
    "$$\n",
    "is\n",
    "$$\n",
    "R_j= \\left\\{\\frac{j^{jp}}{(j-1)^{(j-1)p}}\n",
    "\\frac{|X_1+\\cdots+X_{j-1}|^{(j-1)} |X_j|}{|X_1+\\cdots+X_j|^j} \\right\\}^n\n",
    "$$\n",
    "####  The $R_j$ constitute a factorization of $Q$\n",
    "$$\n",
    "Q = \\prod_{j=2}^k R_j\n",
    "$$\n",
    "#### If $H_0$ is true, the $R_j$ are independent.\n",
    "\n",
    "#### Now the no-change P-value is\n",
    "\n",
    "$$\n",
    "P = {\\rm Prob}(R_j < r_{j,obs}) = {\\rm Prob}(-2\\log R_j > -2\\log r_{j,obs})\n",
    "$$"
   ]
  },
  {
   "cell_type": "markdown",
   "metadata": {
    "nbpresent": {
     "id": "a429b5c8-8d02-4c32-a5db-bff1576e06ff"
    }
   },
   "source": [
    "### Algorithm:\n",
    "\n",
    "#### Test $\\Sigma_1 = \\Sigma_2$\n",
    "\n",
    "#### If not rejected, test $\\Sigma_1 = \\Sigma_2 = \\Sigma_3$\n",
    "\n",
    "#### and so on. \n",
    "\n",
    "#### If rejected, say  $\\Sigma_1 = \\Sigma_2 = \\dots = \\Sigma_{j-1} \\ne \\Sigma_j$\n",
    "\n",
    "#### then re-start, testing $\\Sigma_j = \\Sigma_{j+1}$ and continue."
   ]
  },
  {
   "cell_type": "markdown",
   "metadata": {
    "nbpresent": {
     "id": "cc579eb0-9422-4e2c-9663-9c2fc9a86b40"
    }
   },
   "source": [
    "### Implementation in Docker\n",
    "\n",
    "http://mortcanty.github.io/SARDocker/"
   ]
  },
  {
   "cell_type": "code",
   "execution_count": 1,
   "metadata": {
    "collapsed": false,
    "nbpresent": {
     "id": "333e77e3-37aa-46ac-b980-5740f22cb31a"
    }
   },
   "outputs": [
    {
     "name": "stdout",
     "output_type": "stream",
     "text": [
      "sar\r\n"
     ]
    }
   ],
   "source": [
    "!docker start sar"
   ]
  },
  {
   "cell_type": "markdown",
   "metadata": {
    "nbpresent": {
     "id": "37e90cee-d06c-45f3-bd47-1484a956b752"
    }
   },
   "source": [
    "http://localhost:433"
   ]
  },
  {
   "cell_type": "code",
   "execution_count": 2,
   "metadata": {
    "collapsed": false,
    "nbpresent": {
     "id": "ae30aef3-fa10-4ad5-974f-c151c38d871a"
    }
   },
   "outputs": [
    {
     "name": "stdout",
     "output_type": "stream",
     "text": [
      "sar\r\n"
     ]
    }
   ],
   "source": [
    "!docker stop sar"
   ]
  },
  {
   "cell_type": "markdown",
   "metadata": {
    "nbpresent": {
     "id": "64c87246-0980-48cb-b672-67cef4db05fd"
    }
   },
   "source": [
    "### Implementation on the GEE Python API\n",
    "\n",
    "https://github.com/mortcanty/earthengine"
   ]
  },
  {
   "cell_type": "code",
   "execution_count": null,
   "metadata": {
    "collapsed": false,
    "nbpresent": {
     "id": "b9fc5c59-f341-43c0-8f36-1ba52a94cbaf"
    }
   },
   "outputs": [
    {
     "name": "stdout",
     "output_type": "stream",
     "text": [
      "/home/mort/python/earthengine/src\n",
      " * Running on http://0.0.0.0:5000/ (Press CTRL+C to quit)\n",
      " * Restarting with stat\n",
      " * Debugger is active!\n",
      " * Debugger pin code: 271-178-506\n"
     ]
    }
   ],
   "source": [
    "%cd /home/mort/python/earthengine/src\n",
    "!./app.py"
   ]
  },
  {
   "cell_type": "markdown",
   "metadata": {
    "nbpresent": {
     "id": "44f30d6c-aa3b-4d47-a87c-1221db5d1dbb"
    }
   },
   "source": [
    "http://localhost:5000/"
   ]
  },
  {
   "cell_type": "code",
   "execution_count": null,
   "metadata": {
    "collapsed": true,
    "nbpresent": {
     "id": "fdd20e2e-e8a9-4146-9a12-4ac70da7fdab"
    }
   },
   "outputs": [],
   "source": []
  }
 ],
 "metadata": {
  "anaconda-cloud": {},
  "kernelspec": {
   "display_name": "Python [conda root]",
   "language": "python",
   "name": "conda-root-py"
  },
  "language_info": {
   "codemirror_mode": {
    "name": "ipython",
    "version": 2
   },
   "file_extension": ".py",
   "mimetype": "text/x-python",
   "name": "python",
   "nbconvert_exporter": "python",
   "pygments_lexer": "ipython2",
   "version": "2.7.12"
  },
  "nbpresent": {
   "slides": {
    "0e2bb304-4b88-4cb4-b80a-2d2cfa851031": {
     "id": "0e2bb304-4b88-4cb4-b80a-2d2cfa851031",
     "prev": "eb7c1336-6594-46f5-aabb-b0ae446b1106",
     "regions": {
      "6fc4360a-eff2-4197-9b32-1fcfba5b689f": {
       "attrs": {
        "height": 0.8,
        "width": 0.8,
        "x": 0.1,
        "y": 0.1
       },
       "content": {
        "cell": "44f30d6c-aa3b-4d47-a87c-1221db5d1dbb",
        "part": "whole"
       },
       "id": "6fc4360a-eff2-4197-9b32-1fcfba5b689f"
      }
     }
    },
    "1ca1f0d8-e729-4c8a-8b86-3e51e9e6a088": {
     "id": "1ca1f0d8-e729-4c8a-8b86-3e51e9e6a088",
     "prev": "be1582fc-a794-4cd0-9173-547a89acf5a2",
     "regions": {
      "d248509d-e7ff-40d4-a86e-5e6712ebf321": {
       "attrs": {
        "height": 0.8,
        "width": 0.8,
        "x": 0.1,
        "y": 0.1
       },
       "content": {
        "cell": "ae30aef3-fa10-4ad5-974f-c151c38d871a",
        "part": "whole"
       },
       "id": "d248509d-e7ff-40d4-a86e-5e6712ebf321"
      }
     }
    },
    "1cb304e2-a503-4702-95f6-d3e35b284a6d": {
     "id": "1cb304e2-a503-4702-95f6-d3e35b284a6d",
     "prev": "0e2bb304-4b88-4cb4-b80a-2d2cfa851031",
     "regions": {
      "13c63228-442e-4c85-b98d-65ba67107338": {
       "attrs": {
        "height": 0.8,
        "width": 0.8,
        "x": 0.1,
        "y": 0.1
       },
       "content": {
        "cell": "fdd20e2e-e8a9-4146-9a12-4ac70da7fdab",
        "part": "whole"
       },
       "id": "13c63228-442e-4c85-b98d-65ba67107338"
      }
     }
    },
    "29c86542-cd54-4193-8126-1dab12120fab": {
     "id": "29c86542-cd54-4193-8126-1dab12120fab",
     "prev": "df3f103e-4c2f-4ed5-9bad-af1ed13b9c31",
     "regions": {
      "c1e507ea-beb0-434e-88c0-9a36f4047b49": {
       "attrs": {
        "height": 0.8,
        "width": 0.8,
        "x": 0.1,
        "y": 0.1
       },
       "content": {
        "cell": "2ffd18a6-9b9c-43be-8b5c-2010243b23de",
        "part": "whole"
       },
       "id": "c1e507ea-beb0-434e-88c0-9a36f4047b49"
      }
     }
    },
    "4c4c06d1-5dd1-4faf-a3d7-ed889169a32f": {
     "id": "4c4c06d1-5dd1-4faf-a3d7-ed889169a32f",
     "prev": "9e1db15e-edf2-442c-a7c7-b94a49125939",
     "regions": {
      "dc07f4b2-2593-4f37-b83d-271c13c6694e": {
       "attrs": {
        "height": 0.8,
        "width": 0.8,
        "x": 0.1,
        "y": 0.1
       },
       "content": {
        "cell": "a429b5c8-8d02-4c32-a5db-bff1576e06ff",
        "part": "whole"
       },
       "id": "dc07f4b2-2593-4f37-b83d-271c13c6694e"
      }
     }
    },
    "66e19df7-f05d-4b91-9942-8e2b2855526b": {
     "id": "66e19df7-f05d-4b91-9942-8e2b2855526b",
     "prev": null,
     "regions": {
      "73d41cb8-036b-4e93-b169-f1eaaefc66ff": {
       "attrs": {
        "height": 0.8,
        "width": 0.8,
        "x": 0.1,
        "y": 0.1
       },
       "content": {
        "cell": "61e34aac-853f-4bb7-aa58-56ac8cd5591f",
        "part": "whole"
       },
       "id": "73d41cb8-036b-4e93-b169-f1eaaefc66ff"
      }
     }
    },
    "77b4cf9f-ebcd-4646-9c0d-d5b8de25f32f": {
     "id": "77b4cf9f-ebcd-4646-9c0d-d5b8de25f32f",
     "prev": "1ca1f0d8-e729-4c8a-8b86-3e51e9e6a088",
     "regions": {
      "b79844c0-f7af-4c36-bab7-bc169dc68871": {
       "attrs": {
        "height": 0.8,
        "width": 0.8,
        "x": 0.1,
        "y": 0.1
       },
       "content": {
        "cell": "64c87246-0980-48cb-b672-67cef4db05fd",
        "part": "whole"
       },
       "id": "b79844c0-f7af-4c36-bab7-bc169dc68871"
      }
     }
    },
    "8a995394-d470-4f34-8571-bc8fd8cc8355": {
     "id": "8a995394-d470-4f34-8571-bc8fd8cc8355",
     "prev": "66e19df7-f05d-4b91-9942-8e2b2855526b",
     "regions": {
      "4a0da762-fe82-44ec-80e3-1dc0f3ccee74": {
       "attrs": {
        "height": 0.8,
        "width": 0.8,
        "x": 0.1,
        "y": 0.1
       },
       "content": {
        "cell": "838d8cee-04a8-4730-aa85-4845728fbe77",
        "part": "whole"
       },
       "id": "4a0da762-fe82-44ec-80e3-1dc0f3ccee74"
      }
     }
    },
    "9e1db15e-edf2-442c-a7c7-b94a49125939": {
     "id": "9e1db15e-edf2-442c-a7c7-b94a49125939",
     "prev": "a5d09350-79c1-47a3-bd37-e0fd4966b93c",
     "regions": {
      "83554e47-ee9b-4766-bf87-11cd775c59d1": {
       "attrs": {
        "height": 0.8,
        "width": 0.8,
        "x": 0.1,
        "y": 0.1
       },
       "content": {
        "cell": "7a80b26b-3612-44b9-9acc-b8918ab9f00b",
        "part": "whole"
       },
       "id": "83554e47-ee9b-4766-bf87-11cd775c59d1"
      }
     }
    },
    "a5d09350-79c1-47a3-bd37-e0fd4966b93c": {
     "id": "a5d09350-79c1-47a3-bd37-e0fd4966b93c",
     "prev": "29c86542-cd54-4193-8126-1dab12120fab",
     "regions": {
      "740e0389-d297-49c8-8656-774d09545886": {
       "attrs": {
        "height": 0.8,
        "width": 0.8,
        "x": 0.1,
        "y": 0.1
       },
       "content": {
        "cell": "d7514d8e-51b1-447b-84cc-32fcbb0f51a3",
        "part": "whole"
       },
       "id": "740e0389-d297-49c8-8656-774d09545886"
      }
     }
    },
    "bb62c5b4-25ab-4792-9b4f-a140ecf822b0": {
     "id": "bb62c5b4-25ab-4792-9b4f-a140ecf822b0",
     "prev": "f6a712b4-fb20-4a24-af2a-bcefdd97f617",
     "regions": {
      "e6871a89-76d8-4a74-9a3d-0c14c0372e7c": {
       "attrs": {
        "height": 0.8,
        "width": 0.8,
        "x": 0.1,
        "y": 0.1
       },
       "content": {
        "cell": "333e77e3-37aa-46ac-b980-5740f22cb31a",
        "part": "whole"
       },
       "id": "e6871a89-76d8-4a74-9a3d-0c14c0372e7c"
      }
     }
    },
    "be1582fc-a794-4cd0-9173-547a89acf5a2": {
     "id": "be1582fc-a794-4cd0-9173-547a89acf5a2",
     "prev": "bb62c5b4-25ab-4792-9b4f-a140ecf822b0",
     "regions": {
      "07b66b21-6733-4a01-a2c2-b77a68e64e8f": {
       "attrs": {
        "height": 0.8,
        "width": 0.8,
        "x": 0.1,
        "y": 0.1
       },
       "content": {
        "cell": "37e90cee-d06c-45f3-bd47-1484a956b752",
        "part": "whole"
       },
       "id": "07b66b21-6733-4a01-a2c2-b77a68e64e8f"
      }
     }
    },
    "d1773f98-f9c5-4fba-89a5-148c9c8542f4": {
     "id": "d1773f98-f9c5-4fba-89a5-148c9c8542f4",
     "prev": "8a995394-d470-4f34-8571-bc8fd8cc8355",
     "regions": {
      "ff79a39f-b082-4442-a8e6-74fe1337dfaa": {
       "attrs": {
        "height": 0.8,
        "width": 0.8,
        "x": 0.1,
        "y": 0.1
       },
       "content": {
        "cell": "3a42c88d-ab64-4ac1-92d4-da4a4b3620c4",
        "part": "whole"
       },
       "id": "ff79a39f-b082-4442-a8e6-74fe1337dfaa"
      }
     }
    },
    "df3f103e-4c2f-4ed5-9bad-af1ed13b9c31": {
     "id": "df3f103e-4c2f-4ed5-9bad-af1ed13b9c31",
     "prev": "d1773f98-f9c5-4fba-89a5-148c9c8542f4",
     "regions": {
      "68fcaa3c-d5b8-4997-a51d-10b77473eb27": {
       "attrs": {
        "height": 0.8,
        "width": 0.8,
        "x": 0.1,
        "y": 0.1
       },
       "content": {
        "cell": "724ab1b2-c488-4413-94d4-274773d0cb59",
        "part": "whole"
       },
       "id": "68fcaa3c-d5b8-4997-a51d-10b77473eb27"
      }
     }
    },
    "eb7c1336-6594-46f5-aabb-b0ae446b1106": {
     "id": "eb7c1336-6594-46f5-aabb-b0ae446b1106",
     "prev": "77b4cf9f-ebcd-4646-9c0d-d5b8de25f32f",
     "regions": {
      "46320f4b-0ed1-4256-bbc7-e2818a97ba00": {
       "attrs": {
        "height": 0.8,
        "width": 0.8,
        "x": 0.1,
        "y": 0.1
       },
       "content": {
        "cell": "b9fc5c59-f341-43c0-8f36-1ba52a94cbaf",
        "part": "whole"
       },
       "id": "46320f4b-0ed1-4256-bbc7-e2818a97ba00"
      }
     }
    },
    "f6a712b4-fb20-4a24-af2a-bcefdd97f617": {
     "id": "f6a712b4-fb20-4a24-af2a-bcefdd97f617",
     "prev": "4c4c06d1-5dd1-4faf-a3d7-ed889169a32f",
     "regions": {
      "406b3df1-0613-4ad8-94d3-db6d8c61b94b": {
       "attrs": {
        "height": 0.8,
        "width": 0.8,
        "x": 0.1,
        "y": 0.1
       },
       "content": {
        "cell": "cc579eb0-9422-4e2c-9663-9c2fc9a86b40",
        "part": "whole"
       },
       "id": "406b3df1-0613-4ad8-94d3-db6d8c61b94b"
      }
     }
    }
   },
   "themes": {
    "default": "eda386ea-532c-40d9-ab67-95018dc61c45",
    "theme": {}
   }
  }
 },
 "nbformat": 4,
 "nbformat_minor": 0
}
