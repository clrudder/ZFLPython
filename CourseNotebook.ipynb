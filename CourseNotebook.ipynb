{
 "cells": [
  {
   "cell_type": "markdown",
   "metadata": {},
   "source": [
    "# Python Scripting for Image Analysis\n",
    "### ZFL, April 2017\n",
    "#### Mort Canty\n",
    "#### mort.canty@gmail.com  \n",
    "\n",
    "The open-source programming language Python, together with the extensions Numpy, SciPy and GDAL, \n",
    "is an excellent platform for performing digital image analysis tasks on remote sensing imagery. \n",
    "This short course is intended to provide a basic familiarity with Python syntax and semantics, \n",
    "sufficient to allow students to write their own analysis programs in Python.\n",
    "\n",
    "The topics covered will include:\n",
    "\n",
    "    =  Installing a scientific Python environment (Anaconda2)\n",
    "    \n",
    "    =  Interactive development in Jupyter notebooks \n",
    "    \n",
    "    =  Basic syntax, how to write and run a Python script\n",
    "    \n",
    "    =  Variables, functions, classes\n",
    "    \n",
    "    =  Importing modules, namespaces \n",
    "    \n",
    "    =  Numpy (numerical Python), array-oriented programming\n",
    "    \n",
    "    =  Graphics with MatPlotLib (mathematical graphics library) \n",
    "    \n",
    "    =  GDAL (Geospatial Data Abstraction Library), reading and writing imagery\n",
    "    \n",
    "    =  Parallel computing\n",
    "    \n",
    "    =  Integrated Development Environments: IDLE, Eclipse, IPython   \n",
    "        \n",
    "    =  Programming the Google Earth Engine with the Python API\n",
    "    \n",
    "    =  Web application programming\n",
    "    \n",
    "    =  Example scripts: PCA, Classification, Clustering, MAD ..."
   ]
  },
  {
   "cell_type": "markdown",
   "metadata": {},
   "source": [
    "## Installing Anaconda2 and the Course Material\n",
    "\n",
    "Go to https:#www.continuum.io/downloads and follow the instructions.\n",
    "\n",
    "Go to https:#github.com/mortcanty/ZFLPython,  download the ZIP and unpack it to a convenient location.\n",
    "\n",
    "CD into the subdirectory ZFLPython and run\n",
    "\n",
    "**Jupyter Notebook**\n",
    "\n",
    "from the command line. Open this Notebook \n",
    "\n",
    "**CourseNotebook.ipynb**."
   ]
  },
  {
   "cell_type": "markdown",
   "metadata": {},
   "source": [
    "### A scientific \"Hello world!\" in a Notebook cell"
   ]
  },
  {
   "cell_type": "code",
   "execution_count": null,
   "metadata": {
    "collapsed": false
   },
   "outputs": [],
   "source": [
    "import math                          # importing standard Python modules\n",
    "r = 5                                     # variable assignment\n",
    "s = math.sin(r)                           # function call in namespace \"math\"\n",
    "print 'Hello world! sin(%f) = %f' % (r,s) # print results to standard output"
   ]
  },
  {
   "cell_type": "markdown",
   "metadata": {},
   "source": [
    "### Run the same program as a stand-alone Python script"
   ]
  },
  {
   "cell_type": "code",
   "execution_count": null,
   "metadata": {
    "collapsed": false
   },
   "outputs": [],
   "source": [
    "%cd /home/mort/python/ZFLPython/src \n",
    "# Windows: !cd ...\\ZFLPython\\src"
   ]
  },
  {
   "cell_type": "code",
   "execution_count": null,
   "metadata": {
    "collapsed": false
   },
   "outputs": [],
   "source": [
    "%ls \n",
    "# Windows: %dir"
   ]
  },
  {
   "cell_type": "code",
   "execution_count": null,
   "metadata": {
    "collapsed": false
   },
   "outputs": [],
   "source": [
    "%cat scientificHelloWorld.py \n",
    "# Windows: %type scientificHelloWorld.py"
   ]
  },
  {
   "cell_type": "code",
   "execution_count": null,
   "metadata": {
    "collapsed": false
   },
   "outputs": [],
   "source": [
    "!./scientificHelloWorld.py 5 \n",
    "# Windows (or Linux): !python scientificHelloWorld.py 5"
   ]
  },
  {
   "cell_type": "markdown",
   "metadata": {},
   "source": [
    "### Python functions, file input/output, error catching"
   ]
  },
  {
   "cell_type": "code",
   "execution_count": null,
   "metadata": {
    "collapsed": false
   },
   "outputs": [],
   "source": [
    "def myfunc(y):\n",
    "    if y >= 0.0:\n",
    "        return y**5*math.exp(-y)\n",
    "    else:\n",
    "        return 0.0\n",
    "\n",
    "try:\n",
    "    infilename = raw_input('enter a file name: ') # read from standard input\n",
    "    ifile = open( infilename, 'r')\n",
    "except:\n",
    "    print 'Cannot read %s' % infilename\n",
    "    sys.exit(1)\n",
    "    \n",
    "ofile = open( 'data/tableout.txt', 'w')    \n",
    "    \n",
    "for line in ifile:\n",
    "    pair = line.split()\n",
    "    x = float(pair[0]) ; y = float(pair[1])\n",
    "    fy = myfunc(y)\n",
    "    ofile.write('%f %12.5e\\n' %(x,fy))\n",
    "ifile.close()\n",
    "ofile.close()"
   ]
  },
  {
   "cell_type": "code",
   "execution_count": null,
   "metadata": {
    "collapsed": false
   },
   "outputs": [],
   "source": [
    "%cat data/tableout.txt"
   ]
  },
  {
   "cell_type": "markdown",
   "metadata": {},
   "source": [
    "### Lists, tuples and dictionaries"
   ]
  },
  {
   "cell_type": "code",
   "execution_count": null,
   "metadata": {
    "collapsed": false
   },
   "outputs": [],
   "source": [
    "aList = [1,2,3,4]\n",
    "aTuple = (1,2,3,4)\n",
    "aDict = {'Name': 'Mort', 'Adresse': 'Heinsberger Str. 18', 'PLZ': 52428}\n",
    "\n",
    "print aList[1]\n",
    "print aTuple[1]\n",
    "print aDict.keys()\n",
    "print aDict['PLZ']"
   ]
  },
  {
   "cell_type": "code",
   "execution_count": null,
   "metadata": {
    "collapsed": false
   },
   "outputs": [],
   "source": [
    "aList[1] = 0\n",
    "print aList"
   ]
  },
  {
   "cell_type": "code",
   "execution_count": null,
   "metadata": {
    "collapsed": false
   },
   "outputs": [],
   "source": [
    "aTuple[1] = 0"
   ]
  },
  {
   "cell_type": "markdown",
   "metadata": {},
   "source": [
    "### Object-oriented programming and inheritance"
   ]
  },
  {
   "cell_type": "code",
   "execution_count": 11,
   "metadata": {
    "collapsed": false
   },
   "outputs": [
    {
     "data": {
      "text/plain": [
       "2.23606797749979"
      ]
     },
     "execution_count": 11,
     "metadata": {},
     "output_type": "execute_result"
    }
   ],
   "source": [
    "import math\n",
    "class Vector():\n",
    "    \n",
    "    def __init__(self,x,y):\n",
    "        self.x = x\n",
    "        self.y = y\n",
    "\n",
    "    def length(self):\n",
    "        return math.sqrt(self.x**2+self.y**2)\n",
    "    \n",
    "v = Vector(1.0,2.0)\n",
    "\n",
    "v.length()    "
   ]
  },
  {
   "cell_type": "code",
   "execution_count": 14,
   "metadata": {
    "collapsed": false
   },
   "outputs": [
    {
     "name": "stdout",
     "output_type": "stream",
     "text": [
      "2.0\n",
      "2.2360679775\n",
      "63.4349488229\n"
     ]
    }
   ],
   "source": [
    "class ComplexNumber(Vector):\n",
    "    \n",
    "    def __init__(self,x,y):\n",
    "        Vector.__init__(self,x,y)\n",
    "        \n",
    "    def real(self):\n",
    "        return self.x\n",
    "    \n",
    "    def imag(self):\n",
    "        return self.y\n",
    "        \n",
    "    def amplitude(self):\n",
    "        return self.length()\n",
    "        \n",
    "    def phase(self):\n",
    "        return math.degrees(math.atan(self.y/self.x))\n",
    "    \n",
    "v = ComplexNumber(1.,2.)\n",
    "\n",
    "print v.imag()\n",
    "print v.amplitude()\n",
    "print v.phase()"
   ]
  },
  {
   "cell_type": "markdown",
   "metadata": {},
   "source": [
    "### Array computing"
   ]
  },
  {
   "cell_type": "code",
   "execution_count": null,
   "metadata": {
    "collapsed": false
   },
   "outputs": [],
   "source": [
    "import numpy as np\n",
    "arr = np.random.rand(5,5)\n",
    "print type(arr)"
   ]
  },
  {
   "cell_type": "code",
   "execution_count": null,
   "metadata": {
    "collapsed": false
   },
   "outputs": [],
   "source": [
    "print arr[0,0]"
   ]
  },
  {
   "cell_type": "code",
   "execution_count": null,
   "metadata": {
    "collapsed": false
   },
   "outputs": [],
   "source": [
    "print arr[0]"
   ]
  },
  {
   "cell_type": "code",
   "execution_count": null,
   "metadata": {
    "collapsed": false
   },
   "outputs": [],
   "source": [
    "print arr[0,:]"
   ]
  },
  {
   "cell_type": "code",
   "execution_count": null,
   "metadata": {
    "collapsed": false
   },
   "outputs": [],
   "source": [
    "print arr[0:2,:]"
   ]
  },
  {
   "cell_type": "code",
   "execution_count": null,
   "metadata": {
    "collapsed": false
   },
   "outputs": [],
   "source": [
    "print arr[[0,3,4],:]"
   ]
  },
  {
   "cell_type": "code",
   "execution_count": null,
   "metadata": {
    "collapsed": false
   },
   "outputs": [],
   "source": [
    "print arr[[1,3],0:3]"
   ]
  },
  {
   "cell_type": "code",
   "execution_count": null,
   "metadata": {
    "collapsed": false
   },
   "outputs": [],
   "source": [
    "print arr[-1,:]"
   ]
  },
  {
   "cell_type": "code",
   "execution_count": null,
   "metadata": {
    "collapsed": false
   },
   "outputs": [],
   "source": [
    "print arr[0:5:2,:]"
   ]
  },
  {
   "cell_type": "markdown",
   "metadata": {},
   "source": [
    "### Matrices and linear algebra"
   ]
  },
  {
   "cell_type": "code",
   "execution_count": null,
   "metadata": {
    "collapsed": false
   },
   "outputs": [],
   "source": [
    "A = np.mat(arr[0:4,0:4])\n",
    "print A\n",
    "print A.T"
   ]
  },
  {
   "cell_type": "code",
   "execution_count": null,
   "metadata": {
    "collapsed": false
   },
   "outputs": [],
   "source": [
    "print A.I*A"
   ]
  },
  {
   "cell_type": "code",
   "execution_count": null,
   "metadata": {
    "collapsed": false
   },
   "outputs": [],
   "source": [
    "D = np.mat(np.random.rand(100,3))\n",
    "C = D.T*D\n",
    "C"
   ]
  },
  {
   "cell_type": "code",
   "execution_count": null,
   "metadata": {
    "collapsed": false
   },
   "outputs": [],
   "source": [
    "eigenvalues, eigenvectors = np.linalg.eigh(C)\n",
    "print eigenvalues\n",
    "print ''\n",
    "print eigenvectors"
   ]
  },
  {
   "cell_type": "code",
   "execution_count": null,
   "metadata": {
    "collapsed": false
   },
   "outputs": [],
   "source": [
    "for i in range(3):\n",
    "    print eigenvectors[:,0].T*eigenvectors[:,i]"
   ]
  },
  {
   "cell_type": "markdown",
   "metadata": {},
   "source": [
    "### Graphics"
   ]
  },
  {
   "cell_type": "code",
   "execution_count": null,
   "metadata": {
    "collapsed": false
   },
   "outputs": [],
   "source": [
    "%matplotlib inline\n",
    "import matplotlib.pyplot as plt\n",
    "x = np.linspace(0,10,50)\n",
    "y = np.sin(x)\n",
    "plt.plot(x,y,'g',x,y,'ro')\n",
    "plt.title('SINE')\n",
    "plt.xlabel('X')\n",
    "plt.ylabel('sin(X)')\n",
    "plt.show()"
   ]
  },
  {
   "cell_type": "markdown",
   "metadata": {
    "collapsed": true
   },
   "source": [
    "### Imagery input/output: GDAL\n",
    "\n",
    "GDAL stands for Geospatial Data Abstraction Library. It is not installed in Anaconda2 by default."
   ]
  },
  {
   "cell_type": "code",
   "execution_count": null,
   "metadata": {
    "collapsed": false
   },
   "outputs": [],
   "source": [
    "!conda install gdal"
   ]
  },
  {
   "cell_type": "code",
   "execution_count": null,
   "metadata": {
    "collapsed": false
   },
   "outputs": [],
   "source": [
    "!conda list | grep gdal"
   ]
  },
  {
   "cell_type": "markdown",
   "metadata": {},
   "source": [
    "There are several GDAL binaries that can be called from the command line, for example **gdalinfo**:"
   ]
  },
  {
   "cell_type": "code",
   "execution_count": null,
   "metadata": {
    "collapsed": false
   },
   "outputs": [],
   "source": [
    "!gdalinfo --help"
   ]
  },
  {
   "cell_type": "code",
   "execution_count": null,
   "metadata": {
    "collapsed": false
   },
   "outputs": [],
   "source": [
    "!gdalinfo 'data/20010525'"
   ]
  },
  {
   "cell_type": "markdown",
   "metadata": {},
   "source": [
    "Here is how to get raster imagery into a Python script:"
   ]
  },
  {
   "cell_type": "code",
   "execution_count": null,
   "metadata": {
    "collapsed": false
   },
   "outputs": [],
   "source": [
    "from osgeo import gdal\n",
    "from osgeo.gdalconst import GDT_Byte, GA_ReadOnly\n",
    "gdal.AllRegister()\n",
    "inDataset = gdal.Open('data/20010525',GA_ReadOnly)\n",
    "cols = inDataset.RasterXSize    \n",
    "rows = inDataset.RasterYSize  \n",
    "bands = inDataset.RasterCount  \n",
    "rasterBand1 = inDataset.GetRasterBand(1)\n",
    "band1 = rasterBand1.ReadAsArray(0,0,cols,rows)\n",
    "print np.shape(band1)"
   ]
  },
  {
   "cell_type": "code",
   "execution_count": null,
   "metadata": {
    "collapsed": false
   },
   "outputs": [],
   "source": [
    "fig,ax = plt.subplots(figsize=(10,10)) \n",
    "ax.imshow(band1/255.,cmap='gray')\n",
    "plt.show()"
   ]
  },
  {
   "cell_type": "code",
   "execution_count": null,
   "metadata": {
    "collapsed": false
   },
   "outputs": [],
   "source": [
    "!python dispms.py -h"
   ]
  },
  {
   "cell_type": "code",
   "execution_count": null,
   "metadata": {
    "collapsed": false
   },
   "outputs": [],
   "source": [
    "!python dispms.py -f data/20010525 -e 3 -p [6,5,4]"
   ]
  },
  {
   "cell_type": "code",
   "execution_count": null,
   "metadata": {
    "collapsed": false
   },
   "outputs": [],
   "source": [
    "run dispms -f data/20010525 -e 3 -p [6,5,4]"
   ]
  },
  {
   "cell_type": "code",
   "execution_count": null,
   "metadata": {
    "collapsed": false
   },
   "outputs": [],
   "source": [
    "run dispms -f data/20010525 -e 3 -p [6,5,4] -F data/20010626 -E 3 -P [6,5,4]"
   ]
  },
  {
   "cell_type": "markdown",
   "metadata": {
    "collapsed": true
   },
   "source": [
    "### Example: Principal components"
   ]
  },
  {
   "cell_type": "code",
   "execution_count": null,
   "metadata": {
    "collapsed": false
   },
   "outputs": [],
   "source": [
    "run pca -h"
   ]
  },
  {
   "cell_type": "code",
   "execution_count": null,
   "metadata": {
    "collapsed": false
   },
   "outputs": [],
   "source": [
    "run pca -r 2 data/20010525"
   ]
  },
  {
   "cell_type": "code",
   "execution_count": null,
   "metadata": {
    "collapsed": false
   },
   "outputs": [],
   "source": [
    "run dispms -f data/20010525_pca -p [1,1,1] -e 4 \\\n",
    "-F data/20010525_pca -P [6,6,6] -E 4"
   ]
  },
  {
   "cell_type": "code",
   "execution_count": null,
   "metadata": {
    "collapsed": false
   },
   "outputs": [],
   "source": [
    "run dispms -f data/20010525 -p [4,2,3] -e 3 \\\n",
    "-F data/20010525_recon -P [4,2,3] -E 3"
   ]
  },
  {
   "cell_type": "markdown",
   "metadata": {},
   "source": [
    "### Parallel computing (ipyparallel)\n",
    "\n",
    "https://ipyparallel.readthedocs.io/en/latest/"
   ]
  },
  {
   "cell_type": "code",
   "execution_count": 1,
   "metadata": {
    "collapsed": true
   },
   "outputs": [],
   "source": [
    "from ipyparallel import Client"
   ]
  },
  {
   "cell_type": "code",
   "execution_count": 6,
   "metadata": {
    "collapsed": false
   },
   "outputs": [
    {
     "name": "stdout",
     "output_type": "stream",
     "text": [
      "[0, 1, 2, 3]\n"
     ]
    }
   ],
   "source": [
    "from ipyparallel import Client\n",
    "c = Client()\n",
    "print c.ids\n",
    "v = c[:]"
   ]
  },
  {
   "cell_type": "code",
   "execution_count": 9,
   "metadata": {
    "collapsed": false
   },
   "outputs": [
    {
     "name": "stdout",
     "output_type": "stream",
     "text": [
      "[(3948, 0.0), (3948, 0.69314718055994529), (3948, 1.0986122886681098), (3948, 1.3862943611198906), (3948, 1.6094379124341003), (3948, 1.791759469228055), (3948, 1.9459101490553132), (3948, 2.0794415416798357), (3948, 2.1972245773362196)]\n",
      "[(4084, 0.0), (4084, 0.69314718055994529), (4084, 1.0986122886681098), (4087, 1.3862943611198906), (4087, 1.6094379124341003), (4092, 1.791759469228055), (4092, 1.9459101490553132), (4100, 2.0794415416798357), (4100, 2.1972245773362196)]\n"
     ]
    }
   ],
   "source": [
    "def func(x):\n",
    "    import os\n",
    "    import numpy as np\n",
    "    return (os.getpid(),np.log(x))\n",
    "\n",
    "print map(func,range(1,10))\n",
    "print v.map_sync(func,range(1,10))"
   ]
  },
  {
   "cell_type": "markdown",
   "metadata": {},
   "source": [
    "#### Example: Co-registration of a sequence of SAR images (sar_seq.py)"
   ]
  },
  {
   "cell_type": "markdown",
   "metadata": {},
   "source": [
    "## Alternative development environments\n",
    "\n",
    "###  - IDLE\n",
    "### - Eclipse/Pydev"
   ]
  },
  {
   "cell_type": "markdown",
   "metadata": {},
   "source": [
    "## The Google Earth Engine Python API\n",
    "\n",
    "https://developers.google.com/earth-engine/\n",
    "\n",
    "https://developers.google.com/earth-engine/python_install"
   ]
  },
  {
   "cell_type": "code",
   "execution_count": 4,
   "metadata": {
    "collapsed": false
   },
   "outputs": [
    {
     "name": "stdout",
     "output_type": "stream",
     "text": [
      "/home/mort/python/earthengine/src\n"
     ]
    }
   ],
   "source": [
    "%cd /home/mort/python/earthengine/src"
   ]
  },
  {
   "cell_type": "markdown",
   "metadata": {},
   "source": [
    "### Accessing the data catalogue"
   ]
  },
  {
   "cell_type": "code",
   "execution_count": null,
   "metadata": {
    "collapsed": false
   },
   "outputs": [],
   "source": [
    "import ee, time\n",
    "\n",
    "ee.Initialize()\n",
    "\n",
    "try:\n",
    "    point = ee.Geometry.Point([8.5,50.0]) \n",
    "    start = ee.Date('2016-05-01')\n",
    "    finish = ee.Date('2016-08-01')    \n",
    "    collection = ee.ImageCollection('COPERNICUS/S2') \\\n",
    "                .filterBounds(point) \\\n",
    "                .filterDate(start, finish) \\\n",
    "                .sort('CLOUD_COVERAGE_ASSESSMENT', True)\n",
    "    count = collection.toList(100).length().getInfo()\n",
    "    if count==0:\n",
    "        raise ValueError('No images found')   \n",
    "    image = ee.Image(collection.first()) \n",
    "    timestamp = ee.Date(image.get('system:time_start')).getInfo()\n",
    "    timestamp = time.gmtime(int(timestamp['value'])/1000)\n",
    "    timestamp = time.strftime('%c', timestamp) \n",
    "    systemid = image.get('system:id').getInfo()\n",
    "    cloudcover = image.get('CLOUD_COVERAGE_ASSESSMENT').getInfo()\n",
    "    projection = image.select('B2').projection().getInfo()['crs']    \n",
    "    print 'system id: %s'%systemid\n",
    "    print 'acquisition time: %s'%timestamp\n",
    "    print 'cloud cover (percent):%s'%cloudcover\n",
    "    print 'projection: %s'%projection\n",
    "except Exception as e:\n",
    "    print 'An error occurred: %s'%e"
   ]
  },
  {
   "cell_type": "markdown",
   "metadata": {},
   "source": [
    "### Exporting data"
   ]
  },
  {
   "cell_type": "code",
   "execution_count": null,
   "metadata": {
    "collapsed": false
   },
   "outputs": [],
   "source": [
    "maxLat = 50.06526459341422\n",
    "minLon = 8.477334975832491\n",
    "minLat = 50.01013697421883\n",
    "maxLon = 8.633890151613743\n",
    "rect = ee.Geometry.Rectangle(minLon,minLat,maxLon,maxLat)\n",
    "exportname = 'users/mortcanty/'+systemid.replace('/','-')\n",
    "assexport = ee.batch.Export.image.toAsset(image.clip(rect).select('B2','B3','B4','B8'),\n",
    "                                          description='assetExportTask', \n",
    "                                          assetId=exportname,scale=10,maxPixels=1e9)\n",
    "assexportid = str(assexport.id)\n",
    "print '****Exporting to Assets, task id: %s '%assexportid\n",
    "assexport.start() "
   ]
  },
  {
   "cell_type": "markdown",
   "metadata": {},
   "source": [
    "### Reducers"
   ]
  },
  {
   "cell_type": "code",
   "execution_count": null,
   "metadata": {
    "collapsed": false
   },
   "outputs": [],
   "source": [
    "# Image.reduceRegion example\n",
    "#\n",
    "# Computes a simple reduction over a region of an image.  A reduction\n",
    "# is any process that takes an arbitrary number of inputs (such as\n",
    "# all the pixels of an image in a given region) and computes one or\n",
    "# more fixed outputs.  The result is a dictionary that contains the\n",
    "# computed values, which in this example is the maximum pixel value\n",
    "# in the region.\n",
    "#\n",
    "# This example shows how to print the resulting dictionary to the\n",
    "# console, which is useful when developing and debugging your\n",
    "# scripts, but in a larger workflow you might instead use the\n",
    "# Dicitionary.get() function to extract the values you need from the\n",
    "# dictionary for use as inputs to other functions.\n",
    "\n",
    "import ee\n",
    "\n",
    "ee.Initialize()\n",
    "\n",
    "# The input image to reduce, in this case an SRTM elevation map.\n",
    "image = ee.Image('srtm90_v4')\n",
    "\n",
    "# The region to reduce within.\n",
    "poly = ee.Geometry.Rectangle(-109.05, 41, -102.05, 37)\n",
    "\n",
    "# Reduce the image within the given region, using a reducer that\n",
    "# computes the max pixel value.  We also specify the spatial\n",
    "# resolution at which to perform the computation, in this case 200\n",
    "# meters.\n",
    "max = image.reduceRegion(ee.Reducer.max(), poly, 200)\n",
    "\n",
    "# Print the result to the console.\n",
    "print max.getInfo()\n"
   ]
  },
  {
   "cell_type": "markdown",
   "metadata": {},
   "source": [
    "### Iteration"
   ]
  },
  {
   "cell_type": "code",
   "execution_count": null,
   "metadata": {
    "collapsed": false
   },
   "outputs": [],
   "source": [
    "# Pure Python\n",
    "\n",
    "sum = 0\n",
    "for i in range(10):\n",
    "    sum += i\n",
    "print sum    "
   ]
  },
  {
   "cell_type": "code",
   "execution_count": null,
   "metadata": {
    "collapsed": false
   },
   "outputs": [],
   "source": [
    "# numpy\n",
    "\n",
    "print np.array(range(10)).sum()"
   ]
  },
  {
   "cell_type": "code",
   "execution_count": 5,
   "metadata": {
    "collapsed": false
   },
   "outputs": [
    {
     "name": "stdout",
     "output_type": "stream",
     "text": [
      "ee.ComputedObject({\n",
      "  \"type\": \"Invocation\", \n",
      "  \"arguments\": {\n",
      "    \"function\": {\n",
      "      \"body\": {\n",
      "        \"type\": \"Invocation\", \n",
      "        \"arguments\": {\n",
      "          \"right\": {\n",
      "            \"type\": \"ArgumentRef\", \n",
      "            \"value\": \"_MAPPING_VAR_0_0\"\n",
      "          }, \n",
      "          \"left\": {\n",
      "            \"type\": \"ArgumentRef\", \n",
      "            \"value\": \"_MAPPING_VAR_0_1\"\n",
      "          }\n",
      "        }, \n",
      "        \"functionName\": \"Number.add\"\n",
      "      }, \n",
      "      \"argumentNames\": [\n",
      "        \"_MAPPING_VAR_0_0\", \n",
      "        \"_MAPPING_VAR_0_1\"\n",
      "      ], \n",
      "      \"type\": \"Function\"\n",
      "    }, \n",
      "    \"list\": {\n",
      "      \"type\": \"Invocation\", \n",
      "      \"arguments\": {\n",
      "        \"start\": 0, \n",
      "        \"end\": 9\n",
      "      }, \n",
      "      \"functionName\": \"List.sequence\"\n",
      "    }, \n",
      "    \"first\": 0\n",
      "  }, \n",
      "  \"functionName\": \"List.iterate\"\n",
      "})\n"
     ]
    }
   ],
   "source": [
    "# ee Python API\n",
    "\n",
    "import ee\n",
    "ee.Initialize()\n",
    "\n",
    "def sum(current,prev):\n",
    "    prev = ee.Number(prev)\n",
    "    return prev.add(current)\n",
    "\n",
    "input = ee.List.sequence(0,9)\n",
    "first = ee.Number(0)\n",
    "result = input.iterate(sum,first)\n",
    "print result"
   ]
  },
  {
   "cell_type": "code",
   "execution_count": null,
   "metadata": {
    "collapsed": false
   },
   "outputs": [],
   "source": [
    "print result.getInfo()"
   ]
  },
  {
   "cell_type": "markdown",
   "metadata": {
    "collapsed": true
   },
   "source": [
    "### Web application programming"
   ]
  },
  {
   "cell_type": "code",
   "execution_count": 6,
   "metadata": {
    "collapsed": false
   },
   "outputs": [
    {
     "name": "stdout",
     "output_type": "stream",
     "text": [
      "/home/mort/python/ZFLPython/src\n"
     ]
    }
   ],
   "source": [
    "%cd /home/mort/python/ZFLPython/src"
   ]
  },
  {
   "cell_type": "code",
   "execution_count": 45,
   "metadata": {
    "collapsed": false
   },
   "outputs": [
    {
     "name": "stdout",
     "output_type": "stream",
     "text": [
      "from flask import Flask, render_template, request\r\n",
      "import math,time\r\n",
      "\r\n",
      "app = Flask(__name__)\r\n",
      "\r\n",
      "@app.route('/', methods = ['GET', 'POST'])\r\n",
      "def response():    \r\n",
      "    if request.method == 'GET':\r\n",
      "        gmt = time.gmtime()\r\n",
      "        return render_template('index.html', \r\n",
      "                               time = time.strftime('%c',gmt),\r\n",
      "                               number = '1', \r\n",
      "                               log = '0')\r\n",
      "    else:\r\n",
      "        num = request.form['number']\r\n",
      "        gmt = time.gmtime()\r\n",
      "        return render_template('index.html', \r\n",
      "                               time = time.strftime('%c',gmt),\r\n",
      "                               number = num, \r\n",
      "                               log = str(math.log(float(num))))\r\n",
      "         \r\n",
      "if __name__ == '__main__':    \r\n",
      "    app.run(debug=True, host='0.0.0.0')    "
     ]
    }
   ],
   "source": [
    "!cat webapp.py"
   ]
  },
  {
   "cell_type": "code",
   "execution_count": null,
   "metadata": {
    "collapsed": false
   },
   "outputs": [],
   "source": [
    "run webapp"
   ]
  },
  {
   "cell_type": "code",
   "execution_count": null,
   "metadata": {
    "collapsed": true
   },
   "outputs": [],
   "source": []
  }
 ],
 "metadata": {
  "anaconda-cloud": {},
  "kernelspec": {
   "display_name": "Python [Root]",
   "language": "python",
   "name": "Python [Root]"
  },
  "language_info": {
   "codemirror_mode": {
    "name": "ipython",
    "version": 2
   },
   "file_extension": ".py",
   "mimetype": "text/x-python",
   "name": "python",
   "nbconvert_exporter": "python",
   "pygments_lexer": "ipython2",
   "version": "2.7.12"
  }
 },
 "nbformat": 4,
 "nbformat_minor": 0
}
